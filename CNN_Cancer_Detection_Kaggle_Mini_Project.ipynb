{
  "nbformat": 4,
  "nbformat_minor": 0,
  "metadata": {
    "colab": {
      "provenance": [],
      "toc_visible": true,
      "authorship_tag": "ABX9TyNfdam/syJIzEicmEsR9W5Q",
      "include_colab_link": true
    },
    "kernelspec": {
      "name": "python3",
      "display_name": "Python 3"
    },
    "language_info": {
      "name": "python"
    }
  },
  "cells": [
    {
      "cell_type": "markdown",
      "metadata": {
        "id": "view-in-github",
        "colab_type": "text"
      },
      "source": [
        "<a href=\"https://colab.research.google.com/github/milanfx/DTSA-5511/blob/main/CNN_Cancer_Detection_Kaggle_Mini_Project.ipynb\" target=\"_parent\"><img src=\"https://colab.research.google.com/assets/colab-badge.svg\" alt=\"Open In Colab\"/></a>"
      ]
    },
    {
      "cell_type": "markdown",
      "source": [
        "<div style=\"font-family:Roboto Condensed SemiBold; font-size:150%; letter-spacing: 0px; background-color:darkred; color:#f8f2e4; text-align:center; padding-top:10px; padding-bottom:10px; border: 5px solid #f8f2e4; border-radius: 20px;\"><h1><b>\n",
        "CNN Cancer Detection Kaggle Mini-Project\n",
        "</b></h1></div>\n",
        "\n",
        "---"
      ],
      "metadata": {
        "id": "iY5eTSVjFKHV"
      }
    },
    {
      "cell_type": "markdown",
      "source": [
        "<div style=\"font-family:Roboto Condensed SemiBold; font-size:100%; letter-spacing: 0px; background-color:#f8f2e4; color:darkred; text-align:center; padding-top:3px; padding-bottom:3px; border: 3px solid darkred; border-radius: 20px;\">\n",
        "\n",
        "## **1. Brief Description**\n",
        "\n",
        "</div>\n",
        "\n",
        "---"
      ],
      "metadata": {
        "id": "c5_0YKC6FKM8"
      }
    },
    {
      "cell_type": "markdown",
      "source": [
        "2. Exploratory Data Analysis"
      ],
      "metadata": {
        "id": "BtxbvE2YJXZC"
      }
    },
    {
      "cell_type": "markdown",
      "source": [
        "3. Model Architecture"
      ],
      "metadata": {
        "id": "ZGa5GaTEJfb5"
      }
    },
    {
      "cell_type": "markdown",
      "source": [
        "4. Results and Analysis"
      ],
      "metadata": {
        "id": "zqYj2TLrJyu5"
      }
    },
    {
      "cell_type": "markdown",
      "source": [
        "5. Conclusion"
      ],
      "metadata": {
        "id": "FEuY7rrHJ1AR"
      }
    },
    {
      "cell_type": "code",
      "execution_count": null,
      "metadata": {
        "id": "xcMDz96PFGXt"
      },
      "outputs": [],
      "source": []
    },
    {
      "cell_type": "code",
      "source": [],
      "metadata": {
        "id": "2qBa_WgJFJqE"
      },
      "execution_count": null,
      "outputs": []
    },
    {
      "cell_type": "code",
      "source": [],
      "metadata": {
        "id": "WPLcdbMoFJtA"
      },
      "execution_count": null,
      "outputs": []
    },
    {
      "cell_type": "code",
      "source": [],
      "metadata": {
        "id": "gRuAjz_LFJwC"
      },
      "execution_count": null,
      "outputs": []
    },
    {
      "cell_type": "code",
      "source": [],
      "metadata": {
        "id": "Y9IWck7oFJy2"
      },
      "execution_count": null,
      "outputs": []
    },
    {
      "cell_type": "code",
      "source": [],
      "metadata": {
        "id": "Ootmux5mFJ1w"
      },
      "execution_count": null,
      "outputs": []
    },
    {
      "cell_type": "markdown",
      "source": [],
      "metadata": {
        "id": "Y93o6sCdFKRx"
      }
    }
  ]
}