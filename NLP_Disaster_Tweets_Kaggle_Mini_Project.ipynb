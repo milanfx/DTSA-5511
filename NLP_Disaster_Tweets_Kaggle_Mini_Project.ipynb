{
  "nbformat": 4,
  "nbformat_minor": 0,
  "metadata": {
    "colab": {
      "provenance": [],
      "authorship_tag": "ABX9TyMCsUHPyuLP6p0FgJjTufr5",
      "include_colab_link": true
    },
    "kernelspec": {
      "name": "python3",
      "display_name": "Python 3"
    },
    "language_info": {
      "name": "python"
    }
  },
  "cells": [
    {
      "cell_type": "markdown",
      "metadata": {
        "id": "view-in-github",
        "colab_type": "text"
      },
      "source": [
        "<a href=\"https://colab.research.google.com/github/milanfx/DTSA-5511/blob/main/NLP_Disaster_Tweets_Kaggle_Mini_Project.ipynb\" target=\"_parent\"><img src=\"https://colab.research.google.com/assets/colab-badge.svg\" alt=\"Open In Colab\"/></a>"
      ]
    },
    {
      "cell_type": "markdown",
      "source": [
        "<div style=\"font-family:Roboto Condensed SemiBold; font-size:150%; letter-spacing: 0px; background-color:darkred; color:#f8f2e4; text-align:center; padding-top:10px; padding-bottom:10px; border: 5px solid #f8f2e4; border-radius: 20px;\"><h1><b>\n",
        "NLP Disaster Tweets Kaggle Mini-Project\n",
        "</b></h1></div>\n",
        "\n",
        "---"
      ],
      "metadata": {
        "id": "XMM6_b2PO05U"
      }
    },
    {
      "cell_type": "markdown",
      "source": [
        "<div style=\"font-family:Roboto Condensed SemiBold; font-size:100%; letter-spacing: 0px; background-color:#f8f2e4; color:darkred; text-align:center; padding-top:3px; padding-bottom:3px; border: 3px solid darkred; border-radius: 20px;\">\n",
        "\n",
        "## **1. Project Introduction**\n",
        "\n",
        "</div>\n",
        "\n",
        "---"
      ],
      "metadata": {
        "id": "6_m5xmZmO05X"
      }
    },
    {
      "cell_type": "code",
      "source": [],
      "metadata": {
        "id": "eiSkpPFiMhHB"
      },
      "execution_count": null,
      "outputs": []
    },
    {
      "cell_type": "code",
      "source": [],
      "metadata": {
        "id": "k56sGwcCMhQ2"
      },
      "execution_count": null,
      "outputs": []
    },
    {
      "cell_type": "markdown",
      "source": [
        "<div style=\"font-family:Roboto Condensed SemiBold; font-size:100%; letter-spacing: 0px; background-color:#f8f2e4; color:darkred; text-align:center; padding-top:3px; padding-bottom:3px; border: 3px solid darkred; border-radius: 20px;\">\n",
        "\n",
        "## **2. Exploratory Analysis**\n",
        "\n",
        "</div>\n",
        "\n",
        "---"
      ],
      "metadata": {
        "id": "BtxbvE2YJXZC"
      }
    },
    {
      "cell_type": "code",
      "source": [],
      "metadata": {
        "id": "jDuaP1IdMlbh"
      },
      "execution_count": null,
      "outputs": []
    },
    {
      "cell_type": "code",
      "source": [],
      "metadata": {
        "id": "yhuqgxXNMles"
      },
      "execution_count": null,
      "outputs": []
    },
    {
      "cell_type": "markdown",
      "source": [
        "<div style=\"font-family:Roboto Condensed SemiBold; font-size:100%; letter-spacing: 0px; background-color:#f8f2e4; color:darkred; text-align:center; padding-top:3px; padding-bottom:3px; border: 3px solid darkred; border-radius: 20px;\">\n",
        "\n",
        "## **3. Model Architecture**\n",
        "\n",
        "</div>\n",
        "\n",
        "---"
      ],
      "metadata": {
        "id": "ZGa5GaTEJfb5"
      }
    },
    {
      "cell_type": "code",
      "source": [],
      "metadata": {
        "id": "iLjG3xybM9vT"
      },
      "execution_count": null,
      "outputs": []
    },
    {
      "cell_type": "code",
      "source": [],
      "metadata": {
        "id": "oRIZ6SCDM93a"
      },
      "execution_count": null,
      "outputs": []
    },
    {
      "cell_type": "markdown",
      "source": [
        "<div style=\"font-family:Roboto Condensed SemiBold; font-size:100%; letter-spacing: 0px; background-color:#f8f2e4; color:darkred; text-align:center; padding-top:3px; padding-bottom:3px; border: 3px solid darkred; border-radius: 20px;\">\n",
        "\n",
        "## **4. Results and Analysis**\n",
        "\n",
        "</div>\n",
        "\n",
        "---"
      ],
      "metadata": {
        "id": "zqYj2TLrJyu5"
      }
    },
    {
      "cell_type": "code",
      "source": [],
      "metadata": {
        "id": "riTr_s4UM_PL"
      },
      "execution_count": null,
      "outputs": []
    },
    {
      "cell_type": "code",
      "source": [],
      "metadata": {
        "id": "-ogUBcJVM_W7"
      },
      "execution_count": null,
      "outputs": []
    },
    {
      "cell_type": "markdown",
      "source": [
        "<div style=\"font-family:Roboto Condensed SemiBold; font-size:100%; letter-spacing: 0px; background-color:#f8f2e4; color:darkred; text-align:center; padding-top:3px; padding-bottom:3px; border: 3px solid darkred; border-radius: 20px;\">\n",
        "\n",
        "## **5. Project Conclusion**\n",
        "\n",
        "</div>\n",
        "\n",
        "---"
      ],
      "metadata": {
        "id": "FEuY7rrHJ1AR"
      }
    },
    {
      "cell_type": "code",
      "execution_count": null,
      "metadata": {
        "id": "XX3Sz3v4O05k"
      },
      "outputs": [],
      "source": []
    },
    {
      "cell_type": "code",
      "source": [],
      "metadata": {
        "id": "7XYv74YKO05l"
      },
      "execution_count": null,
      "outputs": []
    }
  ]
}